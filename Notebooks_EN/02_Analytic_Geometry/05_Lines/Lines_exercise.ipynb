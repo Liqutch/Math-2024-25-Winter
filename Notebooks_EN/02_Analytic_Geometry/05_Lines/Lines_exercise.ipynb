{
 "cells": [
  {
   "cell_type": "markdown",
   "id": "b9eff1ff",
   "metadata": {},
   "source": [
    "The line passes through points $A(1, 2)$ and $B(3, 4)$. Find the equation of the line.\n",
    "\n",
    "https://www.geogebra.org/calculator/gejnk35c"
   ]
  },
  {
   "cell_type": "markdown",
   "id": "ea311a12",
   "metadata": {},
   "source": [
    "The line passes through point $A(1, 2)$ and is parallel to the line $y = 2x + 3$. Find the equation of the line.\n",
    "\n",
    "https://www.geogebra.org/calculator/ehqaqcac"
   ]
  },
  {
   "cell_type": "markdown",
   "id": "3edc762e",
   "metadata": {},
   "source": [
    "The line passes through point $A(1, 2)$ and is perpendicular to the line $y = 2x + 3$. Find the equation of the line.\n",
    "\n",
    "https://www.geogebra.org/calculator/huu2gfpx"
   ]
  },
  {
   "cell_type": "markdown",
   "id": "d5641d61",
   "metadata": {},
   "source": [
    "We have two lines $y = 2x + 3$ and $y = 3x + 2$. Find the intersection point of these lines and calculate the angle between them.\n",
    "\n",
    "https://www.geogebra.org/calculator/nbr4u53h"
   ]
  },
  {
   "cell_type": "markdown",
   "id": "12b607fd",
   "metadata": {},
   "source": [
    "Write the equation of the line passing through point $A(1, 2)$ and parallel to the vector $\\vec{v} = [2, 3]$.\n",
    "\n",
    "https://www.geogebra.org/calculator/numyahft"
   ]
  },
  {
   "cell_type": "markdown",
   "id": "7cfa5794",
   "metadata": {},
   "source": [
    "We have the line $y = 2x + 3$. Find an example of a line perpendicular and parallel to it.\n",
    "\n",
    "https://www.geogebra.org/calculator/ddpue9td"
   ]
  },
  {
   "cell_type": "markdown",
   "id": "49720135",
   "metadata": {},
   "source": [
    "We have the line $y = 2x + 3$ and point $A(1, 2)$. Find the distance from point $A$ to the line.\n",
    "\n",
    "https://www.geogebra.org/calculator/gcgfuxdz"
   ]
  },
  {
   "cell_type": "markdown",
   "id": "41e20c65",
   "metadata": {},
   "source": [
    "The line intersects the coordinate axes at points $A(2, 0)$ and $B(0, 3)$. Find the equation of the line.\n",
    "\n",
    "https://www.geogebra.org/calculator/nq2faakd"
   ]
  },
  {
   "cell_type": "markdown",
   "id": "a5499eb7",
   "metadata": {},
   "source": [
    "Calculate the angle between the line $y = x + 3$ and the $Ox$ axis.\n",
    "\n",
    "https://www.geogebra.org/calculator/hynpmr2n"
   ]
  },
  {
   "cell_type": "markdown",
   "id": "d51eab2c",
   "metadata": {},
   "source": [
    "Provide a vector perpendicular to the line $x + y + 1 = 0$.\n",
    "\n",
    "https://www.geogebra.org/calculator/qn5qxusa"
   ]
  }
 ],
 "metadata": {
  "language_info": {
   "name": "python"
  }
 },
 "nbformat": 4,
 "nbformat_minor": 2
}
