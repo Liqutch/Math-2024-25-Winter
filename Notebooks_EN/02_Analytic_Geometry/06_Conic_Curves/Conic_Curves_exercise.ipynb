{
  "cells": [
    {
      "cell_type": "code",
      "execution_count": 1,
      "metadata": {
        "colab": {
          "base_uri": "https://localhost:8080/"
        },
        "id": "Va0xAWuSSq0t",
        "outputId": "9531c949-8a6b-4048-9526-7fd5d373c80f"
      },
      "outputs": [
        {
          "name": "stdout",
          "output_type": "stream",
          "text": [
            "Equation of the circle: Eq((x - 1)**2 + (y - 2)**2, 9)\n"
          ]
        }
      ],
      "source": [
        "from sympy import symbols, Eq\n",
        "\n",
        "x, y = symbols('x y')\n",
        "\n",
        "center = (1, 2)\n",
        "radius = 3\n",
        "\n",
        "circle_eq = Eq((x - center[0])**2 + (y - center[1])**2, radius**2)\n",
        "print(\"Equation of the circle:\", circle_eq)"
      ]
    },
    {
      "cell_type": "code",
      "execution_count": 2,
      "metadata": {
        "colab": {
          "base_uri": "https://localhost:8080/"
        },
        "id": "vCuVYO9WTs8x",
        "outputId": "2eeeea6a-5d7d-4ec3-e30c-436416b58707"
      },
      "outputs": [
        {
          "name": "stdout",
          "output_type": "stream",
          "text": [
            "Equation of the parabola: Eq(y, -(x - 4)*(x - 2))\n"
          ]
        }
      ],
      "source": [
        "from sympy import solve\n",
        "\n",
        "a, x, y = symbols('a x y')\n",
        "\n",
        "root1, root2 = 2, 4\n",
        "parabola_eq = Eq(y, a * (x - root1) * (x - root2))\n",
        "\n",
        "a_value = solve(parabola_eq.subs({x: 3, y: 1}), a)[0]\n",
        "\n",
        "parabola_eq = parabola_eq.subs(a, a_value)\n",
        "print(\"Equation of the parabola:\", parabola_eq)"
      ]
    },
    {
      "cell_type": "code",
      "execution_count": 3,
      "metadata": {
        "colab": {
          "base_uri": "https://localhost:8080/"
        },
        "id": "ecQZK1V0T-gR",
        "outputId": "8c02af23-136c-40ad-9789-b4e6729ff957"
      },
      "outputs": [
        {
          "name": "stdout",
          "output_type": "stream",
          "text": [
            "Center of the ellipse: (2, 2)\n"
          ]
        }
      ],
      "source": [
        "from sympy import simplify\n",
        "\n",
        "ellipse_eq = Eq(x**2 + 4*y**2 - 4*x - 16*y + 16, 0)\n",
        "\n",
        "ellipse_eq = ellipse_eq.expand()\n",
        "x_part = (x - 2)**2 - 4 \n",
        "y_part = (2*y - 4)**2 / 4 - 4\n",
        "simplified_eq = Eq(x_part + y_part, 4)\n",
        "\n",
        "center_x, center_y = 2, 2\n",
        "print(\"Center of the ellipse:\", (center_x, center_y))"
      ]
    },
    {
      "cell_type": "code",
      "execution_count": 11,
      "metadata": {
        "id": "O-lKx9WMUBO0"
      },
      "outputs": [
        {
          "name": "stdout",
          "output_type": "stream",
          "text": [
            "Positive slope m: []\n"
          ]
        }
      ],
      "source": [
        "from sympy import symbols, Eq, solve\n",
        "\n",
        "x, y, m = symbols('x y m')\n",
        "\n",
        "circle_eq = Eq(x**2 + y**2, 1)\n",
        "\n",
        "line_eq = Eq(y, m*x - 5)\n",
        "combined_eq = circle_eq.subs(y, m*x - 5)\n",
        "\n",
        "quadratic = combined_eq.lhs.expand()\n",
        "\n",
        "polynomial = quadratic.as_poly(x)\n",
        "discriminant = polynomial.discriminant()\n",
        "\n",
        "m_value = solve(Eq(discriminant, 0), m)\n",
        "\n",
        "m_positive = [val for val in m_value if val > 0]\n",
        "print(\"Positive slope m:\", m_positive)\n"
      ]
    },
    {
      "cell_type": "code",
      "execution_count": 13,
      "metadata": {
        "colab": {
          "base_uri": "https://localhost:8080/"
        },
        "id": "uOmsz-fFUJ3r",
        "outputId": "81078fdb-fecb-4ecd-a083-2dac58bcd1e4"
      },
      "outputs": [
        {
          "name": "stdout",
          "output_type": "stream",
          "text": [
            "Intersection points: [(-sqrt(2), -1), (-sqrt(2), 1), (sqrt(2), -1), (sqrt(2), 1)]\n"
          ]
        }
      ],
      "source": [
        "from sympy import symbols, Eq, solve\n",
        "\n",
        "x, y = symbols('x y')\n",
        "hyperbola_eq = Eq(x**2 - y**2, 1)\n",
        "ellipse_eq = Eq(x**2 + 4*y**2, 6)\n",
        "\n",
        "intersection_points = solve([hyperbola_eq, ellipse_eq], (x, y))\n",
        "print(\"Intersection points:\", intersection_points)"
      ]
    },
    {
      "cell_type": "code",
      "execution_count": 14,
      "metadata": {
        "colab": {
          "base_uri": "https://localhost:8080/"
        },
        "id": "I9rvOHhrUWhl",
        "outputId": "2fdf3b10-fcb8-4053-f4ef-76af00cb8476"
      },
      "outputs": [
        {
          "name": "stdout",
          "output_type": "stream",
          "text": [
            "Distance between branches: 2*sqrt(2)\n"
          ]
        }
      ],
      "source": [
        "from sympy import sqrt\n",
        "\n",
        "a = 1\n",
        "b = 1\n",
        "distance = 2 * sqrt(a + b)\n",
        "print(\"Distance between branches:\", distance)\n"
      ]
    }
  ],
  "metadata": {
    "colab": {
      "provenance": []
    },
    "kernelspec": {
      "display_name": "Python 3",
      "name": "python3"
    },
    "language_info": {
      "codemirror_mode": {
        "name": "ipython",
        "version": 3
      },
      "file_extension": ".py",
      "mimetype": "text/x-python",
      "name": "python",
      "nbconvert_exporter": "python",
      "pygments_lexer": "ipython3",
      "version": "3.12.4"
    }
  },
  "nbformat": 4,
  "nbformat_minor": 0
}
