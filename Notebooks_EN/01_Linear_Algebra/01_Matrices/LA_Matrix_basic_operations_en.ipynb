{
 "cells": [
  {
   "cell_type": "markdown",
   "metadata": {},
   "source": [
    "# Basic Matrix Operations\n",
    "\n",
    "### Matrix Addition\n",
    "\n",
    "Let $A=[a_{ij}]$ and $B=[b_{ij}]$ be two matrices of dimensions $m \\times n$. Then the sum of matrices $A$ and $B$ is the matrix $C=[c_{ij}]$ of dimensions $m \\times n$, where $c_{ij}=a_{ij}+b_{ij}$.\n",
    "\n",
    "### Matrix Scalar Multiplication\n",
    "\n",
    "Let $A=[a_{ij}]$ be a matrix of dimensions $m \\times n$, and let $k$ be a scalar. Then the product of matrix $A$ and scalar $k$ is the matrix $B=[b_{ij}]$ of dimensions $m \\times n$, where $b_{ij}=k \\cdot a_{ij}$.\n",
    "\n",
    "### Matrix Multiplication\n",
    "\n",
    "Let $A=[a_{ij}]$ be a matrix of dimensions $m \\times n$, and $B=[b_{ij}]$ be a matrix of dimensions $n \\times p$. Then the product of matrices $A$ and $B$ is the matrix $C=[c_{ij}]$ of dimensions $m \\times p$, where $c_{ij}=\\sum_{k=1}^{n} a_{ik} \\cdot b_{kj}$.\n",
    "\n",
    "\n",
    "### Example 1\n",
    "\n",
    "Let $A=\\begin{bmatrix} 1 & 2 \\\\ 3 & 4 \\end{bmatrix}$ and $B=\\begin{bmatrix} 5 & 6 \\\\ 7 & 8 \\end{bmatrix}$. \n",
    "Then the sum of matrices $A$ and $B$ is \n",
    "\n",
    "$$\n",
    "C=\n",
    "A+B=\\begin{bmatrix} 1+5 & 2+6 \\\\ 3+7 & 4+8 \\end{bmatrix}=\\begin{bmatrix} 6 & 8 \\\\ 10 & 12 \\end{bmatrix}.\n",
    "$$\n",
    "\n",
    "### Example 2\n",
    "\n",
    "Let $A=\\begin{bmatrix} 1 & 2 \\\\ 3 & 4 \\end{bmatrix}$ and $k=2$.\n",
    "\n",
    "Then the product of matrix $A$ and scalar $k$ is\n",
    "\n",
    "$$\n",
    "B=\n",
    "k \\cdot A=2 \\cdot \\begin{bmatrix} 1 & 2 \\\\ 3 & 4 \\end{bmatrix}=\\begin{bmatrix} 2*1 & 2*2 \\\\ 2*3 & 2*4 \\end{bmatrix}=\\begin{bmatrix} 2 & 4 \\\\ 6 & 8 \\end{bmatrix}.\n",
    "$$\n",
    "\n",
    "### Example 3\n",
    "\n",
    "Let \n",
    "$A=\\begin{bmatrix} 1 & 2 \\\\ 3 & 4 \\end{bmatrix}$ \n",
    "and \n",
    "$B=\\begin{bmatrix} 5 & 6 \\\\ 7 & 8 \\end{bmatrix}$.\n",
    "\n",
    "Then the product of matrices $A$ and $B$ is\n",
    "\n",
    "$$\n",
    "C=\n",
    "A \\cdot B=\\begin{bmatrix} 1*5+2*7 & 1*6+2*8 \\\\ 3*5+4*7 & 3*6+4*8 \\end{bmatrix}=\\begin{bmatrix} 19 & 22 \\\\ 43 & 50 \\end{bmatrix}.\n",
    "$$"
   ]
  },
  {
   "cell_type": "code",
   "execution_count": 32,
   "metadata": {},
   "outputs": [
    {
     "data": {
      "text/latex": [
       "$\\displaystyle \\left[\\begin{matrix}1 & 2\\\\3 & 4\\end{matrix}\\right]$"
      ],
      "text/plain": [
       "Matrix([\n",
       "[1, 2],\n",
       "[3, 4]])"
      ]
     },
     "execution_count": 32,
     "metadata": {},
     "output_type": "execute_result"
    }
   ],
   "source": [
    "# Example 1: Matrix addition in sympy\n",
    "import sympy as sp\n",
    "\n",
    "A=sp.Matrix([[1,2],[3,4]])\n",
    "B=sp.Matrix([[5,6],[7,8]])\n",
    "A # display matrix A"
   ]
  },
  {
   "cell_type": "code",
   "execution_count": 33,
   "metadata": {},
   "outputs": [
    {
     "data": {
      "text/latex": [
       "$\\displaystyle \\left[\\begin{matrix}5 & 6\\\\7 & 8\\end{matrix}\\right]$"
      ],
      "text/plain": [
       "Matrix([\n",
       "[5, 6],\n",
       "[7, 8]])"
      ]
     },
     "execution_count": 33,
     "metadata": {},
     "output_type": "execute_result"
    }
   ],
   "source": [
    "B # display matrix B"
   ]
  },
  {
   "cell_type": "code",
   "execution_count": 34,
   "metadata": {},
   "outputs": [
    {
     "data": {
      "text/plain": [
       "True"
      ]
     },
     "execution_count": 34,
     "metadata": {},
     "output_type": "execute_result"
    }
   ],
   "source": [
    "sp.Matrix([[6,8],[10,12]])==A+B # verify matrix addition"
   ]
  },
  {
   "cell_type": "code",
   "execution_count": 35,
   "metadata": {},
   "outputs": [
    {
     "data": {
      "text/plain": [
       "True"
      ]
     },
     "execution_count": 35,
     "metadata": {},
     "output_type": "execute_result"
    }
   ],
   "source": [
    "# Example 2: Scalar multiplication\n",
    "A=sp.Matrix([[1,2],[3,4]]) # define matrix A\n",
    "\n",
    "sp.Matrix([[2,4],[6,8]])==2*A # verify scalar multiplication"
   ]
  },
  {
   "cell_type": "code",
   "execution_count": 36,
   "metadata": {},
   "outputs": [
    {
     "data": {
      "text/plain": [
       "True"
      ]
     },
     "execution_count": 36,
     "metadata": {},
     "output_type": "execute_result"
    }
   ],
   "source": [
    "# Example 3: Multiplication of two matrices\n",
    "\n",
    "A=sp.Matrix([[1,2],[3,4]]) # define matrix A\n",
    "B=sp.Matrix([[5,6],[7,8]]) # define matrix B\n",
    "\n",
    "sp.Matrix([[19,22],[43,50]])==A*B # verify matrix multiplication"
   ]
  },
  {
   "cell_type": "markdown",
   "metadata": {},
   "source": [
    "### Necessary Condition for Matrix Multiplication\n",
    "\n",
    "Remember that matrices can have different numbers of rows and columns.\n",
    "\n",
    "To multiply two matrices $A_{m \\times n}$ and $B_{n \\times k}$, where $A$ has dimensions $m \\times n$ and $B$ has dimensions $n \\times k$, the number of columns of matrix $A$ must equal the number of rows of matrix $B$. Otherwise, matrix multiplication is not possible. \n",
    "\n",
    "$$\n",
    "A_{m \\times n} \\cdot B_{n \\times k} = C_{m \\times k}\n",
    "$$\n",
    "\n",
    "For example, if $A_{3 \\times 3}$ and $B_{3 \\times 3}$, then the resulting matrix $C_{3 \\times 3}$.\n",
    "\n",
    "<img src=\"https://www.mscroggs.co.uk/img/full/multiply_matrices.gif\" alt=\"Matrix Multiplication GIF\" width=\"400\">\n",
    "\n",
    "### Matrix Multiplication is Not Commutative\n",
    "\n",
    "Matrix multiplication is not commutative, i.e., in general $A \\cdot B \\neq B \\cdot A$."
   ]
  },
  {
   "cell_type": "code",
   "execution_count": 37,
   "metadata": {},
   "outputs": [
    {
     "data": {
      "text/latex": [
       "$\\displaystyle \\left[\\begin{matrix}9 & 12 & 15\\\\19 & 26 & 33\\\\29 & 40 & 51\\end{matrix}\\right]$"
      ],
      "text/plain": [
       "Matrix([\n",
       "[ 9, 12, 15],\n",
       "[19, 26, 33],\n",
       "[29, 40, 51]])"
      ]
     },
     "execution_count": 37,
     "metadata": {},
     "output_type": "execute_result"
    }
   ],
   "source": [
    "# Example of multiplying rectangular matrices\n",
    "import sympy as sp\n",
    "A=sp.Matrix([[1,2],[3,4],[5,6]]) # define matrix A_{3 x 2}\n",
    "B=sp.Matrix([[1,2,3],[4,5,6]]) # define matrix B_{2 x 3}\n",
    "C=sp.Matrix([[9,12,15],[19,26,33],[29,40,51]]) # define matrix C_{3 x 3}\n",
    "\n",
    "A*B # multiply matrices A and B to get a 3x3 matrix"
   ]
  },
  {
   "cell_type": "code",
   "execution_count": 38,
   "metadata": {},
   "outputs": [
    {
     "data": {
      "text/latex": [
       "$\\displaystyle \\left[\\begin{matrix}22 & 28\\\\49 & 64\\end{matrix}\\right]$"
      ],
      "text/plain": [
       "Matrix([\n",
       "[22, 28],\n",
       "[49, 64]])"
      ]
     },
     "execution_count": 38,
     "metadata": {},
     "output_type": "execute_result"
    }
   ],
   "source": [
    "B*A # multiply matrices B and A to get a 2x2 matrix"
   ]
  },
  {
   "cell_type": "code",
   "execution_count": 39,
   "metadata": {},
   "outputs": [
    {
     "data": {
      "text/latex": [
       "$\\displaystyle \\left[\\begin{matrix}134 & 184 & 234\\\\305 & 418 & 531\\end{matrix}\\right]$"
      ],
      "text/plain": [
       "Matrix([\n",
       "[134, 184, 234],\n",
       "[305, 418, 531]])"
      ]
     },
     "execution_count": 39,
     "metadata": {},
     "output_type": "execute_result"
    }
   ],
   "source": [
    "B*C # multiply matrices B and C to get a 2x3 matrix"
   ]
  },
  {
   "cell_type": "markdown",
   "metadata": {},
   "source": [
    "---\n",
    "## Exercises for Students (old version)\n",
    "\n",
    "1. Calculate the sum of matrices $A=\\begin{bmatrix} 1 & 2 \\\\ 3 & 4 \\end{bmatrix}$ and $B=\\begin{bmatrix} 5 & 6 \\\\ 7 & 8 \\end{bmatrix}$.\n",
    "\n",
    "2. Calculate the product of matrix $A=\\begin{bmatrix} 4 & 2 \\\\ 12 & 4 \\end{bmatrix}$ and scalar $k=\\frac{1}{4}$.\n",
    "\n",
    "3. Calculate the products $A\\cdot B$ and $B \\cdot A$ for matrices $A=\\begin{bmatrix} 3 & 2 \\\\ 2 & 4 \\end{bmatrix}$ and $B=\\begin{bmatrix} 4 & 1 \\\\ 6 & 4 \\end{bmatrix}$."
   ]
  },
  {
   "cell_type": "markdown",
   "metadata": {},
   "source": [
    "\n",
    "## Exercises for Students (new version)\n",
    "\n",
    "For follwing matrices \n",
    "\n",
    "$$\n",
    "\\mathbf{A}=\n",
    "\\begin{pmatrix}\n",
    "1 & 2 \\\\\n",
    "3 & 4 \n",
    "\\end{pmatrix}\n",
    "\\qquad\n",
    "\\mathbf{B}=\n",
    "\\begin{pmatrix}\n",
    "5 & 6 \\\\\n",
    "7 & 8\n",
    "\\end{pmatrix}\n",
    "\\quad\n",
    "\\mathbf{C}=\n",
    "\\begin{pmatrix}\n",
    "-1 & 2 \\\\\n",
    "3 & 0\n",
    "\\end{pmatrix}\n",
    "\\qquad\n",
    "\\mathbf{D}=\n",
    "\\begin{pmatrix}\n",
    "-1 & 2 & 3 \\\\\n",
    "4 & 0 & 6 \n",
    "\\end{pmatrix}\n",
    "\\qquad\n",
    "\\mathbf{E}=\n",
    "\\begin{pmatrix}\n",
    "1 & 2\\\\\n",
    "4 & 5\\\\\n",
    "7 & 8\n",
    "\\end{pmatrix}\n",
    "$$\n",
    "\n",
    "1. Calculate: $\\mathbf{A}+\\mathbf{B}$;  $\\mathbf{B}-\\mathbf{A}$;  $\\mathbf{A}+\\mathbf{C}$; $\\mathbf{D}+\\mathbf{E}$. \n",
    "\n",
    "2. Calculate $\\frac{1}{2}\\mathbf{A}$, $2\\mathbf{B}$, $-3\\mathbf{C}$, and $4\\mathbf{D}$.\n",
    "\n",
    "3. Calculate the products $\\mathbf{A}\\cdot \\mathbf{B}$; $\\mathbf{B} \\cdot \\mathbf{A}$; $\\mathbf{A} \\cdot \\mathbf{D}$; $\\mathbf{D} \\cdot \\mathbf{E}$."
   ]
  },
  {
   "cell_type": "markdown",
   "metadata": {},
   "source": [
    "Old version\n"
   ]
  },
  {
   "cell_type": "code",
   "execution_count": 40,
   "metadata": {},
   "outputs": [
    {
     "data": {
      "text/latex": [
       "$\\displaystyle \\left[\\begin{matrix}6 & 8\\\\10 & 12\\end{matrix}\\right]$"
      ],
      "text/plain": [
       "Matrix([\n",
       "[ 6,  8],\n",
       "[10, 12]])"
      ]
     },
     "execution_count": 40,
     "metadata": {},
     "output_type": "execute_result"
    }
   ],
   "source": [
    "import sympy as sp\n",
    "\n",
    "A = sp.Matrix([[1, 2], [3, 4]])\n",
    "B = sp.Matrix([[5, 6], [7, 8]])\n",
    "C = A + B # [[1, 2] [3, 4]] + [[5, 6] [7, 8]]\n",
    "C # [[6, 8] [10, 12]]"
   ]
  },
  {
   "cell_type": "code",
   "execution_count": 41,
   "metadata": {},
   "outputs": [
    {
     "data": {
      "text/latex": [
       "$\\displaystyle \\left[\\begin{matrix}1 & \\frac{1}{2}\\\\3 & 1\\end{matrix}\\right]$"
      ],
      "text/plain": [
       "Matrix([\n",
       "[1, 1/2],\n",
       "[3,   1]])"
      ]
     },
     "execution_count": 41,
     "metadata": {},
     "output_type": "execute_result"
    }
   ],
   "source": [
    "import sympy as sp\n",
    "\n",
    "A = sp.Matrix([[4, 2], [12, 4]])\n",
    "k = sp.Rational(1, 4) # k = 1/4\n",
    "product = k*A # [[4, 2], [12, 4]] * (1/4)\n",
    "product"
   ]
  },
  {
   "cell_type": "code",
   "execution_count": 42,
   "metadata": {},
   "outputs": [
    {
     "name": "stdout",
     "output_type": "stream",
     "text": [
      "A . B:\n",
      "Matrix([[24, 11], [32, 18]])\n",
      "\n",
      "B . A:\n",
      "Matrix([[14, 12], [26, 28]])\n"
     ]
    }
   ],
   "source": [
    "import sympy as sp\n",
    "\n",
    "A = sp.Matrix([[3, 2], [2, 4]])\n",
    "B = sp.Matrix([[4, 1], [6, 4]])\n",
    "product_AB = A * B # [[3, 2], [2, 4]] * [[4, 1], [6, 4]]\n",
    "product_BA = B * A # [[4, 1], [6, 4]] * [[3, 2], [2, 4]]\n",
    "print(\"A . B:\")\n",
    "print(product_AB) # [[24, 11], [32, 18]]\n",
    "print(\"\\nB . A:\")\n",
    "print(product_BA) # [[14, 12], [26, 28]]"
   ]
  },
  {
   "cell_type": "markdown",
   "metadata": {},
   "source": [
    "New Version"
   ]
  },
  {
   "cell_type": "code",
   "execution_count": 44,
   "metadata": {},
   "outputs": [
    {
     "name": "stdout",
     "output_type": "stream",
     "text": [
      "1. A + B:\n",
      "Matrix([[6, 8], [10, 12]])\n",
      "\n",
      "1. B - A:\n",
      "Matrix([[4, 4], [4, 4]])\n",
      "\n",
      "1. A + C:\n",
      "Matrix([[0, 4], [6, 4]])\n",
      "\n",
      "2. (1/2)A:\n",
      "Matrix([[1/2, 1], [3/2, 2]])\n",
      "\n",
      "2. 2B:\n",
      "Matrix([[10, 12], [14, 16]])\n",
      "\n",
      "2. -3C:\n",
      "Matrix([[3, -6], [-9, 0]])\n",
      "\n",
      "2. 4D:\n",
      "Matrix([[-4, 8, 12], [16, 0, 24]])\n",
      "\n",
      "3. A . B:\n",
      "\n",
      "3. B . A:\n",
      "\n",
      "3. A . D:\n",
      "Matrix([[7, 2, 15], [13, 6, 33]])\n",
      "\n",
      "3. D . E:\n",
      "Matrix([[28, 32], [46, 56]])\n"
     ]
    }
   ],
   "source": [
    "import sympy as sp\n",
    "\n",
    "A = sp.Matrix([[1, 2], [3, 4]])\n",
    "B = sp.Matrix([[5, 6], [7, 8]])\n",
    "C = sp.Matrix([[-1, 2], [3, 0]])\n",
    "D = sp.Matrix([[-1, 2, 3], [4, 0, 6]])\n",
    "E = sp.Matrix([[1, 2], [4, 5], [7, 8]])\n",
    "\n",
    "# 1\n",
    "\n",
    "print(\"1. A + B:\")\n",
    "print(A + B) # [[1, 2], [3, 4]] + [[5, 6], [7, 8]]\n",
    "\n",
    "print(\"\\n1. B - A:\")\n",
    "print(B - A) # [[5, 6], [7, 8]] - [[1, 2], [3, 4]]\n",
    "\n",
    "print(\"\\n1. A + C:\")\n",
    "print(A + C) # [[1, 2], [3, 4]] + [[-1, 2], [3, 0]]\n",
    "\n",
    "# D + E seems not possible\n",
    "\n",
    "# 2\n",
    "\n",
    "print(\"\\n2. (1/2)A:\")\n",
    "print(sp.Rational(1, 2) * A) # (1/2) * [1, 2], [3, 4]]\n",
    "\n",
    "print(\"\\n2. 2B:\")\n",
    "print(2 * B) # 2 * [1, 2], [[5, 6], [7, 8]]\n",
    "\n",
    "print(\"\\n2. -3C:\")\n",
    "print(-3 * C) # -3 * [[-1, 2], [3, 0]]\n",
    "\n",
    "print(\"\\n2. 4D:\")\n",
    "print(4 * D) # 4 * [[-1, 2, 3], [4, 0, 6]]\n",
    "\n",
    "# 3\n",
    "\n",
    "print(\"\\n3. A . B:\")\n",
    "print(A * B) # [[1, 2], [3, 4]] * [[5, 6], [7, 8]]\n",
    "\n",
    "print(\"\\n3. B . A:\")\n",
    "print(B * A) # [[5, 6], [7, 8]] * [[1, 2], [3, 4]]\n",
    "\n",
    "print(\"\\n3. A . D:\")\n",
    "print(A * D) # [[-1, 2, 3], [4, 0, 6]] * [[-1, 2, 3], [4, 0, 6]]\n",
    "\n",
    "print(\"\\n3. D . E:\")\n",
    "print(D * E) # [[-1, 2, 3], [4, 0, 6]] * [[1, 2], [4, 5], [7, 8]]\n"
   ]
  }
 ],
 "metadata": {
  "kernelspec": {
   "display_name": "Python 3",
   "language": "python",
   "name": "python3"
  },
  "language_info": {
   "codemirror_mode": {
    "name": "ipython",
    "version": 3
   },
   "file_extension": ".py",
   "mimetype": "text/x-python",
   "name": "python",
   "nbconvert_exporter": "python",
   "pygments_lexer": "ipython3",
   "version": "3.12.4"
  }
 },
 "nbformat": 4,
 "nbformat_minor": 4
}
