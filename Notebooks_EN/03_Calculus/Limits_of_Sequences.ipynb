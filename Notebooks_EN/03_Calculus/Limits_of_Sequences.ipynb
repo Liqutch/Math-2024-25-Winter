{
 "cells": [
  {
   "cell_type": "markdown",
   "metadata": {},
   "source": [
    "1. Calculate:\n",
    "   - $\\displaystyle \\lim_{n \\to \\infty} \\frac{n^2 + 3n}{2 n^2 - 2n}$\n",
    "\n",
    "   - $\\displaystyle \\lim_{n \\to \\infty} \\frac{(2n+3)^3}{n^3-1}$\n",
    "\n",
    "divide the numerator and denominator by $n^2$:\n",
    "\n",
    "$\\displaystyle \\lim_{n \\to \\infty} \\frac{n^2 + 3n}{2 n^2 - 2n}$ = $\\displaystyle \\lim_{n \\to \\infty}=\\frac{1+\\frac{3}{n}}{2-\\frac{2}{n}}=\\frac{1}{2}$\n",
    "\n",
    "\n",
    "$\\displaystyle lim_{n \\to \\infty} \\frac{(2n+3)^3}{n^3-1}=\\frac{8n^{3}+36n^{2}+54n+27}{n^3-1}$\n",
    "\n",
    "divide both the numerator and the denominator by $n^3$:\n",
    "\n",
    "$\\displaystyle lim_{n \\to \\infty} \\frac{8n^{3}+36n^{2}+54n+27}{n^3-1}=\\frac{8}{1}=8$\n"
   ]
  },
  {
   "cell_type": "markdown",
   "metadata": {},
   "source": [
    "\n",
    "\n",
    "2. Prove using the squeeze theorem:\n",
    "   - $\\displaystyle\\lim_{n \\to \\infty} \\frac{\\sin(n)}{n}$\n",
    "\n",
    "In this case:\n",
    "\n",
    "$sin(n) \\leq n  \\leq 0$"
   ]
  },
  {
   "cell_type": "markdown",
   "metadata": {},
   "source": [
    "3. Find the limit of the sequence:\n",
    "   - $a_n = (1+\\frac{1}{n})^n$\n",
    "\n",
    "$\\displaystyle\\lim_{n \\to \\infty}(1+\\frac{1}{n})^n=e$\n",
    "\n",
    "$\\displaystyle\\lim_{n \\to \\infty}(a_n)=e$"
   ]
  }
 ],
 "metadata": {
  "language_info": {
   "name": "python"
  }
 },
 "nbformat": 4,
 "nbformat_minor": 2
}
