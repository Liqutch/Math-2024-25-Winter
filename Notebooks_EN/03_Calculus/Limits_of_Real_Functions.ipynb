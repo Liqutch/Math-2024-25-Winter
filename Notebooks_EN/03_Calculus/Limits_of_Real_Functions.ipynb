{
 "cells": [
  {
   "cell_type": "markdown",
   "metadata": {},
   "source": [
    "1. Compute:\n",
    "   - $\\displaystyle\\lim_{x \\to \\infty} \\frac{x^3 + 2x^2}{x^4 - 3x^3}$\n",
    "\n",
    "$\\lim_{x \\to \\infty} \\frac{x^3 + 2x^2}{x^4 - 3x^3} = 0$\n",
    "\n",
    "https://www.geogebra.org/calculator/cpusgqmx"
   ]
  },
  {
   "cell_type": "code",
   "execution_count": 1,
   "metadata": {},
   "outputs": [
    {
     "data": {
      "text/latex": [
       "$\\displaystyle 0$"
      ],
      "text/plain": [
       "0"
      ]
     },
     "execution_count": 1,
     "metadata": {},
     "output_type": "execute_result"
    }
   ],
   "source": [
    "import sympy as sp\n",
    "\n",
    "x = sp.symbols('x')\n",
    "f = (x**3 + 2*x**2) / (x**4 - 3*x**3)\n",
    "\n",
    "# Calculate the limit as x approaches infinity\n",
    "limit_value = sp.limit(f, x, sp.oo)\n",
    "limit_value"
   ]
  },
  {
   "cell_type": "markdown",
   "metadata": {},
   "source": [
    "2. Find:\n",
    "   \n",
    "   - $\\displaystyle \\lim_{x \\to 0} \\frac{\\sin(3x)}{2x+1}$.\n",
    "\n",
    "$\\lim_{x \\to 0} \\frac{\\sin(3x)}{2x + 1} = 0$\n",
    "\n",
    "https://www.geogebra.org/calculator/ymvrzvkz"
   ]
  },
  {
   "cell_type": "code",
   "execution_count": 2,
   "metadata": {},
   "outputs": [
    {
     "data": {
      "text/latex": [
       "$\\displaystyle 0$"
      ],
      "text/plain": [
       "0"
      ]
     },
     "execution_count": 2,
     "metadata": {},
     "output_type": "execute_result"
    }
   ],
   "source": [
    "import sympy as sp\n",
    "\n",
    "x = sp.symbols('x')\n",
    "f = sp.sin(3*x) / (2*x + 1)\n",
    "\n",
    "# Calculate the limit as x approaches 0\n",
    "limit_value = sp.limit(f, x, 0)\n",
    "limit_value\n"
   ]
  },
  {
   "cell_type": "markdown",
   "metadata": {},
   "source": [
    "3. Find the asymptotes of the function:\n",
    "  \n",
    "   - $f(x) = \\frac{x^2 - 1}{x^2 + 1}$\n",
    "   - $g(x) = \\frac{\\sin(x)}{x^2+1}$\n",
    "\n",
    "For $f(x) = \\frac{x^2 - 1}{x^2 + 1}$, the horizontal asymptote is $y = 1$.\n",
    "\n",
    "For $g(x) = \\frac{\\sin(x)}{x^2 + 1}$, the horizontal asymptote is $y = 0$.\n",
    "\n",
    "https://www.geogebra.org/calculator/tha9qjjx"
   ]
  },
  {
   "cell_type": "code",
   "execution_count": 3,
   "metadata": {},
   "outputs": [
    {
     "data": {
      "text/plain": [
       "(1, 0)"
      ]
     },
     "execution_count": 3,
     "metadata": {},
     "output_type": "execute_result"
    }
   ],
   "source": [
    "import sympy as sp\n",
    "\n",
    "x = sp.symbols('x')\n",
    "\n",
    "f = (x**2 - 1) / (x**2 + 1)\n",
    "g = sp.sin(x) / (x**2 + 1)\n",
    "\n",
    "# Calculate the limits of both functions as x approaches infinity\n",
    "limit_f = sp.limit(f, x, sp.oo)\n",
    "limit_g = sp.limit(g, x, sp.oo)\n",
    "\n",
    "limit_f, limit_g"
   ]
  }
 ],
 "metadata": {
  "kernelspec": {
   "display_name": "Python 3",
   "language": "python",
   "name": "python3"
  },
  "language_info": {
   "codemirror_mode": {
    "name": "ipython",
    "version": 3
   },
   "file_extension": ".py",
   "mimetype": "text/x-python",
   "name": "python",
   "nbconvert_exporter": "python",
   "pygments_lexer": "ipython3",
   "version": "3.12.4"
  }
 },
 "nbformat": 4,
 "nbformat_minor": 2
}
