{
 "cells": [
  {
   "cell_type": "markdown",
   "metadata": {},
   "source": [
    "1. Draw in a single Geogebra notebook the following functions:\n",
    "   - $f(x) = x^2$\n",
    "   - $g(x) = \\sqrt{x}$\n",
    "   - $h(x) = \\frac{1}{x}$\n",
    "   - $j(x) = \\sin(x)$\n",
    "\n",
    "Find value of all the above functions at $x = 2$.\n",
    "\n",
    "$f(2)=2^2=4$\n",
    "\n",
    "$g(2)=\\sqrt 2=1.41$\n",
    "\n",
    "$h(2)=\\frac{1}{2}$\n",
    "\n",
    "$j(2)=sin⁡(2)=0.909$\n",
    "\n",
    "https://www.geogebra.org/calculator/a9bncn5g"
   ]
  },
  {
   "cell_type": "markdown",
   "metadata": {},
   "source": [
    "2. Let $f(x) = 3x - 1$ and $g(x) = \\sqrt{x}$. Find:\n",
    "   - $f(g(x))$\n",
    "   - $g(f(x))$\n",
    "   - $f(f(x))$\n",
    "   - $g(g(x))$\n",
    "\n",
    "and visualize functions in a single Geogebra notebook.\n",
    "\n",
    "- $f(g(x))=3\\sqrt x -1$\n",
    "\n",
    "- $g(f(x))=\\sqrt{3x-1}$\n",
    "\n",
    "- $f(f(x))=3(3x-1)-1=9x-3-1=9x-4$\n",
    "\n",
    "- $g(g(x))=\\sqrt{\\sqrt x}=x^{\\frac{1}{4}}$\n",
    "\n",
    "https://www.geogebra.org/calculator/vr2a2vpk"
   ]
  },
  {
   "cell_type": "markdown",
   "metadata": {},
   "source": [
    "3. Let $f(x) = e^x$ and $g(x) = \\ln(x)$. Check: $f(g(x))$ and $g(f(x))$. What do you notice?\n",
    "\n",
    "If x > 0 they both equal x:\n",
    "\n",
    "\n",
    "$f(x)=e^x$\n",
    "\n",
    "$g(x)=ln(x)$\n",
    "\n",
    "$f(g(x))=e^{ln(x)}=x$\n",
    "\n",
    "$g(f(x))=ln(e^x)=x$"
   ]
  },
  {
   "cell_type": "markdown",
   "metadata": {},
   "source": [
    "4. We have function $f=\\{(1,7), (2,9), (3,11)\\}$. Give inverse function $f^{-1}$.\n",
    "\n",
    "$f=(1,7),(2,9),(3,11)$\n",
    "\n",
    "$f^{-1}=(7,1),(9,2),(11,3)$"
   ]
  },
  {
   "cell_type": "markdown",
   "metadata": {},
   "source": [
    "5. We have function $f=\\{(1,7), (2,7), (3,11)\\}$. Give inverse function $f^{-1}$.\n",
    "\n",
    "$f=(1,7),(2,7),(3,11)$\n",
    "\n",
    "$f^{−1}=(7,1),(7,2),(11,3)$"
   ]
  },
  {
   "cell_type": "markdown",
   "metadata": {},
   "source": [
    "6. We have function $f(x)= x-1$. Give inverse function $f^{-1}$. Show both functions on the same Geogebra notebook.\n",
    "\n",
    "$f(x)=x−1$\n",
    "\n",
    "$f^{−1}(x)=x+1$\n",
    "\n",
    "https://www.geogebra.org/calculator/bev8jd9s"
   ]
  }
 ],
 "metadata": {
  "language_info": {
   "name": "python"
  }
 },
 "nbformat": 4,
 "nbformat_minor": 2
}
